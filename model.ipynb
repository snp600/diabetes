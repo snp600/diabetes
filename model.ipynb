{
 "cells": [
  {
   "cell_type": "code",
   "execution_count": 1,
   "metadata": {
    "collapsed": false
   },
   "outputs": [
    {
     "name": "stdout",
     "output_type": "stream",
     "text": [
      "Populating the interactive namespace from numpy and matplotlib\n"
     ]
    }
   ],
   "source": [
    "%pylab inline"
   ]
  },
  {
   "cell_type": "code",
   "execution_count": 2,
   "metadata": {
    "collapsed": false
   },
   "outputs": [
    {
     "data": {
      "text/plain": [
       "<Figure size 720x360 with 0 Axes>"
      ]
     },
     "execution_count": 2,
     "metadata": {},
     "output_type": "execute_result"
    },
    {
     "data": {
      "text/plain": [
       "<Figure size 720x360 with 0 Axes>"
      ]
     },
     "metadata": {},
     "output_type": "display_data"
    }
   ],
   "source": [
    "import pandas as pd\n",
    "import numpy as np\n",
    "\n",
    "import xgboost as xgb\n",
    "from sklearn import ensemble\n",
    "from sklearn.preprocessing import StandardScaler\n",
    "\n",
    "plt.figure(figsize(10,5))"
   ]
  },
  {
   "cell_type": "code",
   "execution_count": 3,
   "metadata": {
    "collapsed": true
   },
   "outputs": [],
   "source": [
    "data = pd.read_csv('transposed.csv')"
   ]
  },
  {
   "cell_type": "code",
   "execution_count": 4,
   "metadata": {
    "collapsed": false
   },
   "outputs": [
    {
     "data": {
      "text/html": [
       "<div>\n",
       "<style scoped>\n",
       "    .dataframe tbody tr th:only-of-type {\n",
       "        vertical-align: middle;\n",
       "    }\n",
       "\n",
       "    .dataframe tbody tr th {\n",
       "        vertical-align: top;\n",
       "    }\n",
       "\n",
       "    .dataframe thead th {\n",
       "        text-align: right;\n",
       "    }\n",
       "</style>\n",
       "<table border=\"1\" class=\"dataframe\">\n",
       "  <thead>\n",
       "    <tr style=\"text-align: right;\">\n",
       "      <th></th>\n",
       "      <th>record_id</th>\n",
       "      <th>id</th>\n",
       "      <th>date</th>\n",
       "      <th>days</th>\n",
       "      <th>gender</th>\n",
       "      <th>age</th>\n",
       "      <th>27</th>\n",
       "      <th>28</th>\n",
       "      <th>37</th>\n",
       "      <th>42</th>\n",
       "      <th>43</th>\n",
       "      <th>68</th>\n",
       "      <th>76</th>\n",
       "      <th>89</th>\n",
       "      <th>65</th>\n",
       "      <th>119</th>\n",
       "      <th>67</th>\n",
       "      <th>107</th>\n",
       "      <th>diabetes</th>\n",
       "    </tr>\n",
       "  </thead>\n",
       "  <tbody>\n",
       "    <tr>\n",
       "      <th>0</th>\n",
       "      <td>1</td>\n",
       "      <td>69</td>\n",
       "      <td>15806</td>\n",
       "      <td>466</td>\n",
       "      <td>1</td>\n",
       "      <td>59</td>\n",
       "      <td>7.29</td>\n",
       "      <td>33.40</td>\n",
       "      <td>4.02</td>\n",
       "      <td>30.5</td>\n",
       "      <td>47.6</td>\n",
       "      <td>NaN</td>\n",
       "      <td>NaN</td>\n",
       "      <td>NaN</td>\n",
       "      <td>NaN</td>\n",
       "      <td>NaN</td>\n",
       "      <td>NaN</td>\n",
       "      <td>NaN</td>\n",
       "      <td>1</td>\n",
       "    </tr>\n",
       "    <tr>\n",
       "      <th>1</th>\n",
       "      <td>2</td>\n",
       "      <td>69</td>\n",
       "      <td>15825</td>\n",
       "      <td>485</td>\n",
       "      <td>1</td>\n",
       "      <td>59</td>\n",
       "      <td>7.16</td>\n",
       "      <td>24.57</td>\n",
       "      <td>4.08</td>\n",
       "      <td>39.7</td>\n",
       "      <td>54.4</td>\n",
       "      <td>NaN</td>\n",
       "      <td>NaN</td>\n",
       "      <td>NaN</td>\n",
       "      <td>NaN</td>\n",
       "      <td>NaN</td>\n",
       "      <td>NaN</td>\n",
       "      <td>NaN</td>\n",
       "      <td>1</td>\n",
       "    </tr>\n",
       "    <tr>\n",
       "      <th>2</th>\n",
       "      <td>3</td>\n",
       "      <td>69</td>\n",
       "      <td>15849</td>\n",
       "      <td>509</td>\n",
       "      <td>1</td>\n",
       "      <td>59</td>\n",
       "      <td>6.65</td>\n",
       "      <td>24.95</td>\n",
       "      <td>NaN</td>\n",
       "      <td>34.5</td>\n",
       "      <td>50.4</td>\n",
       "      <td>NaN</td>\n",
       "      <td>NaN</td>\n",
       "      <td>NaN</td>\n",
       "      <td>NaN</td>\n",
       "      <td>NaN</td>\n",
       "      <td>NaN</td>\n",
       "      <td>NaN</td>\n",
       "      <td>1</td>\n",
       "    </tr>\n",
       "    <tr>\n",
       "      <th>3</th>\n",
       "      <td>4</td>\n",
       "      <td>109</td>\n",
       "      <td>15742</td>\n",
       "      <td>402</td>\n",
       "      <td>0</td>\n",
       "      <td>58</td>\n",
       "      <td>6.14</td>\n",
       "      <td>NaN</td>\n",
       "      <td>NaN</td>\n",
       "      <td>NaN</td>\n",
       "      <td>NaN</td>\n",
       "      <td>NaN</td>\n",
       "      <td>NaN</td>\n",
       "      <td>NaN</td>\n",
       "      <td>NaN</td>\n",
       "      <td>NaN</td>\n",
       "      <td>NaN</td>\n",
       "      <td>NaN</td>\n",
       "      <td>1</td>\n",
       "    </tr>\n",
       "    <tr>\n",
       "      <th>4</th>\n",
       "      <td>5</td>\n",
       "      <td>109</td>\n",
       "      <td>16611</td>\n",
       "      <td>1271</td>\n",
       "      <td>0</td>\n",
       "      <td>60</td>\n",
       "      <td>6.05</td>\n",
       "      <td>NaN</td>\n",
       "      <td>NaN</td>\n",
       "      <td>NaN</td>\n",
       "      <td>NaN</td>\n",
       "      <td>NaN</td>\n",
       "      <td>NaN</td>\n",
       "      <td>NaN</td>\n",
       "      <td>NaN</td>\n",
       "      <td>NaN</td>\n",
       "      <td>NaN</td>\n",
       "      <td>NaN</td>\n",
       "      <td>1</td>\n",
       "    </tr>\n",
       "  </tbody>\n",
       "</table>\n",
       "</div>"
      ],
      "text/plain": [
       "   record_id   id   date  days  gender  age    27     28    37    42    43  \\\n",
       "0          1   69  15806   466       1   59  7.29  33.40  4.02  30.5  47.6   \n",
       "1          2   69  15825   485       1   59  7.16  24.57  4.08  39.7  54.4   \n",
       "2          3   69  15849   509       1   59  6.65  24.95   NaN  34.5  50.4   \n",
       "3          4  109  15742   402       0   58  6.14    NaN   NaN   NaN   NaN   \n",
       "4          5  109  16611  1271       0   60  6.05    NaN   NaN   NaN   NaN   \n",
       "\n",
       "   68  76  89  65  119  67  107  diabetes  \n",
       "0 NaN NaN NaN NaN  NaN NaN  NaN         1  \n",
       "1 NaN NaN NaN NaN  NaN NaN  NaN         1  \n",
       "2 NaN NaN NaN NaN  NaN NaN  NaN         1  \n",
       "3 NaN NaN NaN NaN  NaN NaN  NaN         1  \n",
       "4 NaN NaN NaN NaN  NaN NaN  NaN         1  "
      ]
     },
     "execution_count": 4,
     "metadata": {},
     "output_type": "execute_result"
    }
   ],
   "source": [
    "data['gender'] = data['gender'].apply(lambda x: 1 if (x == 'Мужской') else 0)\n",
    "data.head()"
   ]
  },
  {
   "cell_type": "code",
   "execution_count": 5,
   "metadata": {
    "collapsed": false
   },
   "outputs": [
    {
     "data": {
      "text/plain": [
       "(41040, 19)"
      ]
     },
     "execution_count": 5,
     "metadata": {},
     "output_type": "execute_result"
    }
   ],
   "source": [
    "data.shape"
   ]
  },
  {
   "cell_type": "code",
   "execution_count": 6,
   "metadata": {
    "collapsed": false
   },
   "outputs": [],
   "source": [
    "df = data[data['27'].isna() == False]\n",
    "df = df.drop(['68','76','89','65','119','67','107'], axis=1)\n",
    "df = df.dropna()"
   ]
  },
  {
   "cell_type": "code",
   "execution_count": 7,
   "metadata": {
    "collapsed": false
   },
   "outputs": [
    {
     "data": {
      "text/plain": [
       "(12175, 12)"
      ]
     },
     "execution_count": 7,
     "metadata": {},
     "output_type": "execute_result"
    }
   ],
   "source": [
    "df.shape"
   ]
  },
  {
   "cell_type": "code",
   "execution_count": 8,
   "metadata": {
    "collapsed": false
   },
   "outputs": [
    {
     "data": {
      "text/html": [
       "<div>\n",
       "<style scoped>\n",
       "    .dataframe tbody tr th:only-of-type {\n",
       "        vertical-align: middle;\n",
       "    }\n",
       "\n",
       "    .dataframe tbody tr th {\n",
       "        vertical-align: top;\n",
       "    }\n",
       "\n",
       "    .dataframe thead th {\n",
       "        text-align: right;\n",
       "    }\n",
       "</style>\n",
       "<table border=\"1\" class=\"dataframe\">\n",
       "  <thead>\n",
       "    <tr style=\"text-align: right;\">\n",
       "      <th></th>\n",
       "      <th>record_id</th>\n",
       "      <th>id</th>\n",
       "      <th>date</th>\n",
       "      <th>days</th>\n",
       "      <th>gender</th>\n",
       "      <th>age</th>\n",
       "      <th>27</th>\n",
       "      <th>28</th>\n",
       "      <th>37</th>\n",
       "      <th>42</th>\n",
       "      <th>43</th>\n",
       "      <th>diabetes</th>\n",
       "    </tr>\n",
       "  </thead>\n",
       "  <tbody>\n",
       "    <tr>\n",
       "      <th>0</th>\n",
       "      <td>1</td>\n",
       "      <td>69</td>\n",
       "      <td>15806</td>\n",
       "      <td>466</td>\n",
       "      <td>1</td>\n",
       "      <td>59</td>\n",
       "      <td>7.29</td>\n",
       "      <td>33.40</td>\n",
       "      <td>4.02</td>\n",
       "      <td>30.5</td>\n",
       "      <td>47.6</td>\n",
       "      <td>1</td>\n",
       "    </tr>\n",
       "    <tr>\n",
       "      <th>1</th>\n",
       "      <td>2</td>\n",
       "      <td>69</td>\n",
       "      <td>15825</td>\n",
       "      <td>485</td>\n",
       "      <td>1</td>\n",
       "      <td>59</td>\n",
       "      <td>7.16</td>\n",
       "      <td>24.57</td>\n",
       "      <td>4.08</td>\n",
       "      <td>39.7</td>\n",
       "      <td>54.4</td>\n",
       "      <td>1</td>\n",
       "    </tr>\n",
       "    <tr>\n",
       "      <th>8</th>\n",
       "      <td>9</td>\n",
       "      <td>178</td>\n",
       "      <td>16871</td>\n",
       "      <td>1531</td>\n",
       "      <td>1</td>\n",
       "      <td>46</td>\n",
       "      <td>4.70</td>\n",
       "      <td>12.87</td>\n",
       "      <td>5.05</td>\n",
       "      <td>34.3</td>\n",
       "      <td>72.4</td>\n",
       "      <td>0</td>\n",
       "    </tr>\n",
       "    <tr>\n",
       "      <th>9</th>\n",
       "      <td>10</td>\n",
       "      <td>217</td>\n",
       "      <td>15865</td>\n",
       "      <td>525</td>\n",
       "      <td>1</td>\n",
       "      <td>47</td>\n",
       "      <td>6.30</td>\n",
       "      <td>10.38</td>\n",
       "      <td>6.46</td>\n",
       "      <td>23.8</td>\n",
       "      <td>28.5</td>\n",
       "      <td>1</td>\n",
       "    </tr>\n",
       "    <tr>\n",
       "      <th>10</th>\n",
       "      <td>11</td>\n",
       "      <td>217</td>\n",
       "      <td>16417</td>\n",
       "      <td>1077</td>\n",
       "      <td>1</td>\n",
       "      <td>48</td>\n",
       "      <td>5.82</td>\n",
       "      <td>15.26</td>\n",
       "      <td>5.81</td>\n",
       "      <td>32.4</td>\n",
       "      <td>37.4</td>\n",
       "      <td>1</td>\n",
       "    </tr>\n",
       "  </tbody>\n",
       "</table>\n",
       "</div>"
      ],
      "text/plain": [
       "    record_id   id   date  days  gender  age    27     28    37    42    43  \\\n",
       "0           1   69  15806   466       1   59  7.29  33.40  4.02  30.5  47.6   \n",
       "1           2   69  15825   485       1   59  7.16  24.57  4.08  39.7  54.4   \n",
       "8           9  178  16871  1531       1   46  4.70  12.87  5.05  34.3  72.4   \n",
       "9          10  217  15865   525       1   47  6.30  10.38  6.46  23.8  28.5   \n",
       "10         11  217  16417  1077       1   48  5.82  15.26  5.81  32.4  37.4   \n",
       "\n",
       "    diabetes  \n",
       "0          1  \n",
       "1          1  \n",
       "8          0  \n",
       "9          1  \n",
       "10         1  "
      ]
     },
     "execution_count": 8,
     "metadata": {},
     "output_type": "execute_result"
    }
   ],
   "source": [
    "df.head()"
   ]
  },
  {
   "cell_type": "code",
   "execution_count": 9,
   "metadata": {
    "collapsed": true
   },
   "outputs": [],
   "source": [
    "X = df[['gender', 'age', '28', '37', '42', '43']].values\n",
    "y = df['diabetes'].values"
   ]
  },
  {
   "cell_type": "code",
   "execution_count": 10,
   "metadata": {
    "collapsed": true
   },
   "outputs": [],
   "source": [
    "from sklearn.linear_model import LogisticRegression\n",
    "from sklearn.model_selection import cross_val_score, StratifiedKFold\n",
    "import warnings\n",
    "warnings.filterwarnings('ignore')\n",
    "skf = StratifiedKFold(n_splits=3, shuffle=True, random_state=42)\n",
    "logit = LogisticRegression(n_jobs=-1, random_state=42)"
   ]
  },
  {
   "cell_type": "code",
   "execution_count": 11,
   "metadata": {
    "collapsed": false
   },
   "outputs": [
    {
     "data": {
      "text/plain": [
       "0.67293661712996"
      ]
     },
     "execution_count": 11,
     "metadata": {},
     "output_type": "execute_result"
    }
   ],
   "source": [
    "score = cross_val_score(estimator=logit, X=X, y=y, cv=skf, scoring='accuracy')\n",
    "score.mean()"
   ]
  },
  {
   "cell_type": "code",
   "execution_count": 12,
   "metadata": {
    "collapsed": false
   },
   "outputs": [
    {
     "data": {
      "text/plain": [
       "LogisticRegression(C=1.0, class_weight=None, dual=False, fit_intercept=True,\n",
       "          intercept_scaling=1, max_iter=100, multi_class='warn', n_jobs=-1,\n",
       "          penalty='l2', random_state=42, solver='warn', tol=0.0001,\n",
       "          verbose=0, warm_start=False)"
      ]
     },
     "execution_count": 12,
     "metadata": {},
     "output_type": "execute_result"
    }
   ],
   "source": [
    "logit.fit(X, y)"
   ]
  },
  {
   "cell_type": "code",
   "execution_count": 13,
   "metadata": {
    "collapsed": false
   },
   "outputs": [
    {
     "data": {
      "text/plain": [
       "array([[ 5.75077568e-01,  5.29443109e-02,  3.95185440e-04,\n",
       "         6.38276890e-02, -4.89701448e-03,  7.33633423e-03]])"
      ]
     },
     "execution_count": 13,
     "metadata": {},
     "output_type": "execute_result"
    }
   ],
   "source": [
    "logit.coef_"
   ]
  },
  {
   "cell_type": "code",
   "execution_count": 14,
   "metadata": {
    "collapsed": false,
    "scrolled": false
   },
   "outputs": [
    {
     "data": {
      "text/plain": [
       "<matplotlib.legend.Legend at 0x7fb56887a668>"
      ]
     },
     "execution_count": 14,
     "metadata": {},
     "output_type": "execute_result"
    },
    {
     "data": {
      "image/png": "[encoded data removed]",
      "text/plain": [
       "<Figure size 720x360 with 1 Axes>"
      ]
     },
     "metadata": {
      "needs_background": "light"
     },
     "output_type": "display_data"
    }
   ],
   "source": [
    "n_trees = range(10, 55, 5)\n",
    "\n",
    "scoring = []\n",
    "for n_tree in n_trees:\n",
    "    estimator = ensemble.RandomForestClassifier(n_estimators = n_tree, min_samples_split=5, random_state=1)\n",
    "    score = cross_val_score(estimator, X, y, scoring = 'accuracy', cv = skf)    \n",
    "    scoring.append(score)\n",
    "scoring = np.asmatrix(scoring)\n",
    "\n",
    "xgb_scoring = []\n",
    "for n_tree in n_trees:\n",
    "    estimator = xgb.XGBClassifier(learning_rate=0.1, max_depth=5, n_estimators=n_tree, min_child_weight=3)\n",
    "    score = cross_val_score(estimator, X, y, scoring = 'accuracy', cv = skf)    \n",
    "    xgb_scoring.append(score)\n",
    "xgb_scoring = np.asmatrix(xgb_scoring)\n",
    "\n",
    "pylab.plot(n_trees, scoring.mean(axis = 1), marker='.', label='RandomForest')\n",
    "pylab.plot(n_trees, xgb_scoring.mean(axis = 1), marker='.', label='XGBoost')\n",
    "pylab.grid(True)\n",
    "pylab.xlabel('n_trees')\n",
    "pylab.ylabel('score')\n",
    "pylab.title('Accuracy score')\n",
    "pylab.legend(loc='lower right')"
   ]
  },
  {
   "cell_type": "code",
   "execution_count": 15,
   "metadata": {
    "collapsed": false,
    "scrolled": true
   },
   "outputs": [
    {
     "data": {
      "text/plain": [
       "<matplotlib.legend.Legend at 0x7fb56514cc88>"
      ]
     },
     "execution_count": 15,
     "metadata": {},
     "output_type": "execute_result"
    },
    {
     "data": {
      "image/png": "[encoded data removed]",
      "text/plain": [
       "<Figure size 720x360 with 1 Axes>"
      ]
     },
     "metadata": {
      "needs_background": "light"
     },
     "output_type": "display_data"
    }
   ],
   "source": [
    "n_trees = range(10, 55, 5)\n",
    "\n",
    "scoring = []\n",
    "for n_tree in n_trees:\n",
    "    estimator = ensemble.RandomForestClassifier(n_estimators = n_tree, min_samples_split=5, random_state=1)\n",
    "    score = cross_val_score(estimator, X, y, scoring = 'roc_auc', cv = skf)    \n",
    "    scoring.append(score)\n",
    "scoring = np.asmatrix(scoring)\n",
    "\n",
    "xgb_scoring = []\n",
    "for n_tree in n_trees:\n",
    "    estimator = xgb.XGBClassifier(learning_rate=0.1, max_depth=5, n_estimators=n_tree, min_child_weight=3)\n",
    "    score = cross_val_score(estimator, X, y, scoring = 'roc_auc', cv = skf)    \n",
    "    xgb_scoring.append(score)\n",
    "xgb_scoring = np.asmatrix(xgb_scoring)\n",
    "\n",
    "\n",
    "pylab.plot(n_trees, scoring.mean(axis = 1), marker='.', label='RandomForest')\n",
    "pylab.plot(n_trees, xgb_scoring.mean(axis = 1), marker='.', label='XGBoost')\n",
    "pylab.grid(True)\n",
    "pylab.xlabel('n_trees')\n",
    "pylab.ylabel('score')\n",
    "pylab.title('ROC_AUC score')\n",
    "pylab.legend(loc='lower right')"
   ]
  },
  {
   "cell_type": "markdown",
   "metadata": {},
   "source": [
    "### Trying to clean data"
   ]
  },
  {
   "cell_type": "code",
   "execution_count": 16,
   "metadata": {
    "collapsed": false
   },
   "outputs": [
    {
     "data": {
      "text/html": [
       "<div>\n",
       "<style scoped>\n",
       "    .dataframe tbody tr th:only-of-type {\n",
       "        vertical-align: middle;\n",
       "    }\n",
       "\n",
       "    .dataframe tbody tr th {\n",
       "        vertical-align: top;\n",
       "    }\n",
       "\n",
       "    .dataframe thead th {\n",
       "        text-align: right;\n",
       "    }\n",
       "</style>\n",
       "<table border=\"1\" class=\"dataframe\">\n",
       "  <thead>\n",
       "    <tr style=\"text-align: right;\">\n",
       "      <th></th>\n",
       "      <th>record_id</th>\n",
       "      <th>id</th>\n",
       "      <th>date</th>\n",
       "      <th>days</th>\n",
       "      <th>gender</th>\n",
       "      <th>age</th>\n",
       "      <th>27</th>\n",
       "      <th>28</th>\n",
       "      <th>37</th>\n",
       "      <th>42</th>\n",
       "      <th>43</th>\n",
       "      <th>diabetes</th>\n",
       "    </tr>\n",
       "  </thead>\n",
       "  <tbody>\n",
       "    <tr>\n",
       "      <th>0</th>\n",
       "      <td>1</td>\n",
       "      <td>69</td>\n",
       "      <td>15806</td>\n",
       "      <td>466</td>\n",
       "      <td>1</td>\n",
       "      <td>59</td>\n",
       "      <td>7.29</td>\n",
       "      <td>33.40</td>\n",
       "      <td>4.02</td>\n",
       "      <td>30.5</td>\n",
       "      <td>47.6</td>\n",
       "      <td>1</td>\n",
       "    </tr>\n",
       "    <tr>\n",
       "      <th>1</th>\n",
       "      <td>2</td>\n",
       "      <td>69</td>\n",
       "      <td>15825</td>\n",
       "      <td>485</td>\n",
       "      <td>1</td>\n",
       "      <td>59</td>\n",
       "      <td>7.16</td>\n",
       "      <td>24.57</td>\n",
       "      <td>4.08</td>\n",
       "      <td>39.7</td>\n",
       "      <td>54.4</td>\n",
       "      <td>1</td>\n",
       "    </tr>\n",
       "    <tr>\n",
       "      <th>8</th>\n",
       "      <td>9</td>\n",
       "      <td>178</td>\n",
       "      <td>16871</td>\n",
       "      <td>1531</td>\n",
       "      <td>1</td>\n",
       "      <td>46</td>\n",
       "      <td>4.70</td>\n",
       "      <td>12.87</td>\n",
       "      <td>5.05</td>\n",
       "      <td>34.3</td>\n",
       "      <td>72.4</td>\n",
       "      <td>0</td>\n",
       "    </tr>\n",
       "    <tr>\n",
       "      <th>9</th>\n",
       "      <td>10</td>\n",
       "      <td>217</td>\n",
       "      <td>15865</td>\n",
       "      <td>525</td>\n",
       "      <td>1</td>\n",
       "      <td>47</td>\n",
       "      <td>6.30</td>\n",
       "      <td>10.38</td>\n",
       "      <td>6.46</td>\n",
       "      <td>23.8</td>\n",
       "      <td>28.5</td>\n",
       "      <td>1</td>\n",
       "    </tr>\n",
       "    <tr>\n",
       "      <th>10</th>\n",
       "      <td>11</td>\n",
       "      <td>217</td>\n",
       "      <td>16417</td>\n",
       "      <td>1077</td>\n",
       "      <td>1</td>\n",
       "      <td>48</td>\n",
       "      <td>5.82</td>\n",
       "      <td>15.26</td>\n",
       "      <td>5.81</td>\n",
       "      <td>32.4</td>\n",
       "      <td>37.4</td>\n",
       "      <td>1</td>\n",
       "    </tr>\n",
       "  </tbody>\n",
       "</table>\n",
       "</div>"
      ],
      "text/plain": [
       "    record_id   id   date  days  gender  age    27     28    37    42    43  \\\n",
       "0           1   69  15806   466       1   59  7.29  33.40  4.02  30.5  47.6   \n",
       "1           2   69  15825   485       1   59  7.16  24.57  4.08  39.7  54.4   \n",
       "8           9  178  16871  1531       1   46  4.70  12.87  5.05  34.3  72.4   \n",
       "9          10  217  15865   525       1   47  6.30  10.38  6.46  23.8  28.5   \n",
       "10         11  217  16417  1077       1   48  5.82  15.26  5.81  32.4  37.4   \n",
       "\n",
       "    diabetes  \n",
       "0          1  \n",
       "1          1  \n",
       "8          0  \n",
       "9          1  \n",
       "10         1  "
      ]
     },
     "execution_count": 16,
     "metadata": {},
     "output_type": "execute_result"
    }
   ],
   "source": [
    "df.head()"
   ]
  },
  {
   "cell_type": "code",
   "execution_count": 17,
   "metadata": {
    "collapsed": false
   },
   "outputs": [
    {
     "name": "stdout",
     "output_type": "stream",
     "text": [
      "deleted rows: 67\n"
     ]
    }
   ],
   "source": [
    "df2 = df[df['28'] < 70]\n",
    "df2 = df2[df2['37'] < 15]\n",
    "df2 = df2[df2['42'] < 250]\n",
    "df2 = df2[df2['43'] < 400]\n",
    "print(\"deleted rows: \" + str(df.shape[0] - df2.shape[0]))"
   ]
  },
  {
   "cell_type": "code",
   "execution_count": 18,
   "metadata": {
    "collapsed": true
   },
   "outputs": [],
   "source": [
    "X2 = df2[['gender', 'age', '28', '37', '42', '43']].values\n",
    "y2 = df2['diabetes'].values"
   ]
  },
  {
   "cell_type": "code",
   "execution_count": 19,
   "metadata": {
    "collapsed": false
   },
   "outputs": [
    {
     "data": {
      "text/plain": [
       "(12108, 6)"
      ]
     },
     "execution_count": 19,
     "metadata": {},
     "output_type": "execute_result"
    }
   ],
   "source": [
    "X2.shape"
   ]
  },
  {
   "cell_type": "code",
   "execution_count": 20,
   "metadata": {
    "collapsed": false,
    "scrolled": true
   },
   "outputs": [
    {
     "data": {
      "text/plain": [
       "<matplotlib.legend.Legend at 0x7fb5650bdb70>"
      ]
     },
     "execution_count": 20,
     "metadata": {},
     "output_type": "execute_result"
    },
    {
     "data": {
      "image/png": "[encoded data removed]",
      "text/plain": [
       "<Figure size 720x360 with 1 Axes>"
      ]
     },
     "metadata": {
      "needs_background": "light"
     },
     "output_type": "display_data"
    }
   ],
   "source": [
    "n_trees = range(10, 55, 5)\n",
    "\n",
    "scoring2 = []\n",
    "for n_tree in n_trees:\n",
    "    estimator = ensemble.RandomForestClassifier(n_estimators = n_tree, min_samples_split=5, random_state=1)\n",
    "    score = cross_val_score(estimator, X2, y2, scoring = 'roc_auc', cv = skf)    \n",
    "    scoring2.append(score)\n",
    "scoring2 = np.asmatrix(scoring2)\n",
    "\n",
    "xgb_scoring2 = []\n",
    "for n_tree in n_trees:\n",
    "    estimator = xgb.XGBClassifier(learning_rate=0.1, max_depth=5, n_estimators=n_tree, min_child_weight=3)\n",
    "    score = cross_val_score(estimator, X2, y2, scoring = 'roc_auc', cv = skf)    \n",
    "    xgb_scoring2.append(score)\n",
    "xgb_scoring2 = np.asmatrix(xgb_scoring2)\n",
    "\n",
    "\n",
    "pylab.plot(n_trees, scoring2.mean(axis = 1), marker='.', label='RandomForest')\n",
    "pylab.plot(n_trees, xgb_scoring2.mean(axis = 1), marker='.', label='XGBoost')\n",
    "pylab.grid(True)\n",
    "pylab.xlabel('n_trees')\n",
    "pylab.ylabel('score')\n",
    "pylab.title('ROC_AUC score')\n",
    "pylab.legend(loc='lower right')"
   ]
  },
  {
   "cell_type": "code",
   "execution_count": 24,
   "metadata": {
    "collapsed": false
   },
   "outputs": [
    {
     "name": "stdout",
     "output_type": "stream",
     "text": [
      "0.7570325867046165\n",
      "0.7512694690388043\n",
      "0.765448377608031\n",
      "0.7597327241933615\n"
     ]
    }
   ],
   "source": [
    "print(scoring.max())\n",
    "print(scoring2.max())\n",
    "print(xgb_scoring.max())\n",
    "print(xgb_scoring2.max())"
   ]
  }
 ],
 "metadata": {
  "kernelspec": {
   "display_name": "Python 3",
   "language": "python",
   "name": "python3"
  },
  "language_info": {
   "codemirror_mode": {
    "name": "ipython",
    "version": 3
   },
   "file_extension": ".py",
   "mimetype": "text/x-python",
   "name": "python",
   "nbconvert_exporter": "python",
   "pygments_lexer": "ipython3",
   "version": "3.6.3"
  }
 },
 "nbformat": 4,
 "nbformat_minor": 2
}
