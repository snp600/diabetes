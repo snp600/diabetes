{
 "cells": [
  {
   "cell_type": "code",
   "execution_count": 1,
   "metadata": {
    "collapsed": true
   },
   "outputs": [],
   "source": [
    "import pandas as pd\n",
    "import numpy as np"
   ]
  },
  {
   "cell_type": "code",
   "execution_count": 2,
   "metadata": {
    "collapsed": true
   },
   "outputs": [],
   "source": [
    "data = pd.read_csv(\"a_vsu_glucose1_201708071431.csv\")"
   ]
  },
  {
   "cell_type": "code",
   "execution_count": 3,
   "metadata": {
    "collapsed": false
   },
   "outputs": [
    {
     "data": {
      "text/plain": [
       "array(['Глюкоза', 'Билирубин общий', 'Холестерин общий',\n",
       "       'Аспартатаминотрансфераза (АсАТ)', 'Аланинаминотрансфераза (АлАТ)',\n",
       "       'Кортизол', 'Тестостерон свободный',\n",
       "       'Антиген вируса гепатита В (HBsAg)', 'Тромбиновое время',\n",
       "       'РЭА /поджелудочная железа, кишечник/',\n",
       "       'Волчаночный антикоагулянт', 'Антитела к хламидии трахоматис IgA'],\n",
       "      dtype=object)"
      ]
     },
     "execution_count": 3,
     "metadata": {},
     "output_type": "execute_result"
    }
   ],
   "source": [
    "data.measurement_name.unique()"
   ]
  },
  {
   "cell_type": "code",
   "execution_count": null,
   "metadata": {
    "collapsed": false,
    "scrolled": false
   },
   "outputs": [
    {
     "data": {
      "text/html": [
       "<div>\n",
       "<style scoped>\n",
       "    .dataframe tbody tr th:only-of-type {\n",
       "        vertical-align: middle;\n",
       "    }\n",
       "\n",
       "    .dataframe tbody tr th {\n",
       "        vertical-align: top;\n",
       "    }\n",
       "\n",
       "    .dataframe thead th {\n",
       "        text-align: right;\n",
       "    }\n",
       "</style>\n",
       "<table border=\"1\" class=\"dataframe\">\n",
       "  <thead>\n",
       "    <tr style=\"text-align: right;\">\n",
       "      <th></th>\n",
       "      <th>patient_id</th>\n",
       "      <th>measurement_date</th>\n",
       "      <th>measurement_id</th>\n",
       "      <th>measurement_name</th>\n",
       "      <th>measurement_result</th>\n",
       "    </tr>\n",
       "  </thead>\n",
       "  <tbody>\n",
       "    <tr>\n",
       "      <th>0</th>\n",
       "      <td>69</td>\n",
       "      <td>2013-04-11</td>\n",
       "      <td>27</td>\n",
       "      <td>Глюкоза</td>\n",
       "      <td>7.29</td>\n",
       "    </tr>\n",
       "    <tr>\n",
       "      <th>1</th>\n",
       "      <td>69</td>\n",
       "      <td>2013-04-11</td>\n",
       "      <td>28</td>\n",
       "      <td>Билирубин общий</td>\n",
       "      <td>33.40</td>\n",
       "    </tr>\n",
       "    <tr>\n",
       "      <th>2</th>\n",
       "      <td>69</td>\n",
       "      <td>2013-04-11</td>\n",
       "      <td>37</td>\n",
       "      <td>Холестерин общий</td>\n",
       "      <td>4.02</td>\n",
       "    </tr>\n",
       "    <tr>\n",
       "      <th>3</th>\n",
       "      <td>69</td>\n",
       "      <td>2013-04-11</td>\n",
       "      <td>42</td>\n",
       "      <td>Аспартатаминотрансфераза (АсАТ)</td>\n",
       "      <td>30.50</td>\n",
       "    </tr>\n",
       "    <tr>\n",
       "      <th>4</th>\n",
       "      <td>69</td>\n",
       "      <td>2013-04-11</td>\n",
       "      <td>43</td>\n",
       "      <td>Аланинаминотрансфераза (АлАТ)</td>\n",
       "      <td>47.60</td>\n",
       "    </tr>\n",
       "    <tr>\n",
       "      <th>5</th>\n",
       "      <td>69</td>\n",
       "      <td>2013-04-30</td>\n",
       "      <td>27</td>\n",
       "      <td>Глюкоза</td>\n",
       "      <td>7.16</td>\n",
       "    </tr>\n",
       "    <tr>\n",
       "      <th>6</th>\n",
       "      <td>69</td>\n",
       "      <td>2013-04-30</td>\n",
       "      <td>28</td>\n",
       "      <td>Билирубин общий</td>\n",
       "      <td>24.57</td>\n",
       "    </tr>\n",
       "    <tr>\n",
       "      <th>7</th>\n",
       "      <td>69</td>\n",
       "      <td>2013-04-30</td>\n",
       "      <td>37</td>\n",
       "      <td>Холестерин общий</td>\n",
       "      <td>4.08</td>\n",
       "    </tr>\n",
       "    <tr>\n",
       "      <th>8</th>\n",
       "      <td>69</td>\n",
       "      <td>2013-04-30</td>\n",
       "      <td>42</td>\n",
       "      <td>Аспартатаминотрансфераза (АсАТ)</td>\n",
       "      <td>39.70</td>\n",
       "    </tr>\n",
       "    <tr>\n",
       "      <th>9</th>\n",
       "      <td>69</td>\n",
       "      <td>2013-04-30</td>\n",
       "      <td>43</td>\n",
       "      <td>Аланинаминотрансфераза (АлАТ)</td>\n",
       "      <td>54.40</td>\n",
       "    </tr>\n",
       "  </tbody>\n",
       "</table>\n",
       "</div>"
      ],
      "text/plain": [
       "   patient_id measurement_date  measurement_id  \\\n",
       "0          69       2013-04-11              27   \n",
       "1          69       2013-04-11              28   \n",
       "2          69       2013-04-11              37   \n",
       "3          69       2013-04-11              42   \n",
       "4          69       2013-04-11              43   \n",
       "5          69       2013-04-30              27   \n",
       "6          69       2013-04-30              28   \n",
       "7          69       2013-04-30              37   \n",
       "8          69       2013-04-30              42   \n",
       "9          69       2013-04-30              43   \n",
       "\n",
       "                  measurement_name  measurement_result  \n",
       "0                          Глюкоза                7.29  \n",
       "1                  Билирубин общий               33.40  \n",
       "2                 Холестерин общий                4.02  \n",
       "3  Аспартатаминотрансфераза (АсАТ)               30.50  \n",
       "4    Аланинаминотрансфераза (АлАТ)               47.60  \n",
       "5                          Глюкоза                7.16  \n",
       "6                  Билирубин общий               24.57  \n",
       "7                 Холестерин общий                4.08  \n",
       "8  Аспартатаминотрансфераза (АсАТ)               39.70  \n",
       "9    Аланинаминотрансфераза (АлАТ)               54.40  "
      ]
     },
     "execution_count": 4,
     "metadata": {},
     "output_type": "execute_result"
    }
   ],
   "source": [
    "data.head(10)"
   ]
  },
  {
   "cell_type": "code",
   "execution_count": null,
   "metadata": {
    "collapsed": false
   },
   "outputs": [],
   "source": []
  },
  {
   "cell_type": "code",
   "execution_count": null,
   "metadata": {
    "collapsed": false
   },
   "outputs": [],
   "source": []
  },
  {
   "cell_type": "code",
   "execution_count": null,
   "metadata": {
    "collapsed": false
   },
   "outputs": [],
   "source": [
    "i = 0\n",
    "key = 0\n",
    "d = {}\n",
    "for index, row in data.iterrows():\n",
    "    value = [row.patient_id, row.measurement_date]\n",
    "    if value in d.values():\n",
    "        pass\n",
    "    else:\n",
    "        d[key] = value\n",
    "        key += 1"
   ]
  },
  {
   "cell_type": "code",
   "execution_count": null,
   "metadata": {
    "collapsed": true
   },
   "outputs": [],
   "source": [
    "def get_records_dict(data):\n",
    "    key = 0\n",
    "    d = {}\n",
    "    for index, row in data.iterrows():\n",
    "        value = [row.patient_id, row.measurement_date]\n",
    "        if value not in d.values():\n",
    "            d[key] = value\n",
    "            key += 1\n",
    "    return d"
   ]
  },
  {
   "cell_type": "code",
   "execution_count": null,
   "metadata": {
    "collapsed": false,
    "scrolled": true
   },
   "outputs": [],
   "source": [
    "#~3 mins\n",
    "records_dict = get_records_dict(data)"
   ]
  },
  {
   "cell_type": "code",
   "execution_count": null,
   "metadata": {
    "collapsed": false
   },
   "outputs": [],
   "source": [
    "records_dict"
   ]
  },
  {
   "cell_type": "code",
   "execution_count": null,
   "metadata": {
    "collapsed": true
   },
   "outputs": [],
   "source": [
    "def prepare_df(records_dict):\n",
    "    measurements_dict_df = pd.DataFrame(data[['measurement_id', 'measurement_name']].drop_duplicates().values, \n",
    "                                    columns=['measurement_id', 'measurement_name'])\n",
    "    general_columns = ['record_id', 'patient_id', 'measurement_date']\n",
    "    measurements_columns = ['measurement_' + str(x) for x in data.measurement_id.unique()]\n",
    "    columns = np.append(general_columns, measurements_columns)\n",
    "    df = pd.DataFrame(columns=columns)\n",
    "    \n",
    "    return df"
   ]
  },
  {
   "cell_type": "code",
   "execution_count": null,
   "metadata": {
    "collapsed": false
   },
   "outputs": [],
   "source": [
    "df = prepare_df(records_dict)\n",
    "df"
   ]
  },
  {
   "cell_type": "code",
   "execution_count": null,
   "metadata": {
    "collapsed": false
   },
   "outputs": [],
   "source": [
    "value1 = [1, \"a\"]\n",
    "value2 = [2, \"b\"]\n",
    "value3 = [1, \"a\"]\n",
    "value4 = [1, \"a\"]\n",
    "z = {}\n",
    "z[0] = value1\n",
    "value3 in z.values()"
   ]
  }
 ],
 "metadata": {
  "kernelspec": {
   "display_name": "Python 3",
   "language": "python",
   "name": "python3"
  },
  "language_info": {
   "codemirror_mode": {
    "name": "ipython",
    "version": 3
   },
   "file_extension": ".py",
   "mimetype": "text/x-python",
   "name": "python",
   "nbconvert_exporter": "python",
   "pygments_lexer": "ipython3",
   "version": "3.6.3"
  }
 },
 "nbformat": 4,
 "nbformat_minor": 2
}
