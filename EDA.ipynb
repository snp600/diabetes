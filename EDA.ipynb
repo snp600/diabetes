{
 "cells": [
  {
   "cell_type": "code",
   "execution_count": 3,
   "metadata": {
    "collapsed": true
   },
   "outputs": [],
   "source": [
    "import pandas as pd\n",
    "import numpy as np"
   ]
  },
  {
   "cell_type": "code",
   "execution_count": 17,
   "metadata": {
    "collapsed": false
   },
   "outputs": [],
   "source": [
    "data = pd.read_csv('diabetes.csv')"
   ]
  },
  {
   "cell_type": "code",
   "execution_count": 5,
   "metadata": {
    "collapsed": false
   },
   "outputs": [
    {
     "data": {
      "text/html": [
       "<div>\n",
       "<style scoped>\n",
       "    .dataframe tbody tr th:only-of-type {\n",
       "        vertical-align: middle;\n",
       "    }\n",
       "\n",
       "    .dataframe tbody tr th {\n",
       "        vertical-align: top;\n",
       "    }\n",
       "\n",
       "    .dataframe thead th {\n",
       "        text-align: right;\n",
       "    }\n",
       "</style>\n",
       "<table border=\"1\" class=\"dataframe\">\n",
       "  <thead>\n",
       "    <tr style=\"text-align: right;\">\n",
       "      <th></th>\n",
       "      <th>record_id</th>\n",
       "      <th>patient_id</th>\n",
       "      <th>measurement_date</th>\n",
       "      <th>measurement_27</th>\n",
       "      <th>measurement_28</th>\n",
       "      <th>measurement_37</th>\n",
       "      <th>measurement_42</th>\n",
       "      <th>measurement_43</th>\n",
       "      <th>measurement_68</th>\n",
       "      <th>measurement_76</th>\n",
       "      <th>measurement_89</th>\n",
       "      <th>measurement_65</th>\n",
       "      <th>measurement_119</th>\n",
       "      <th>measurement_67</th>\n",
       "      <th>measurement_107</th>\n",
       "    </tr>\n",
       "  </thead>\n",
       "  <tbody>\n",
       "    <tr>\n",
       "      <th>0</th>\n",
       "      <td>0</td>\n",
       "      <td>69</td>\n",
       "      <td>2013-04-11</td>\n",
       "      <td>7.29</td>\n",
       "      <td>33.40</td>\n",
       "      <td>4.02</td>\n",
       "      <td>30.5</td>\n",
       "      <td>47.6</td>\n",
       "      <td>NaN</td>\n",
       "      <td>NaN</td>\n",
       "      <td>NaN</td>\n",
       "      <td>NaN</td>\n",
       "      <td>NaN</td>\n",
       "      <td>NaN</td>\n",
       "      <td>NaN</td>\n",
       "    </tr>\n",
       "    <tr>\n",
       "      <th>1</th>\n",
       "      <td>1</td>\n",
       "      <td>69</td>\n",
       "      <td>2013-04-30</td>\n",
       "      <td>7.16</td>\n",
       "      <td>24.57</td>\n",
       "      <td>4.08</td>\n",
       "      <td>39.7</td>\n",
       "      <td>54.4</td>\n",
       "      <td>NaN</td>\n",
       "      <td>NaN</td>\n",
       "      <td>NaN</td>\n",
       "      <td>NaN</td>\n",
       "      <td>NaN</td>\n",
       "      <td>NaN</td>\n",
       "      <td>NaN</td>\n",
       "    </tr>\n",
       "    <tr>\n",
       "      <th>2</th>\n",
       "      <td>2</td>\n",
       "      <td>69</td>\n",
       "      <td>2013-05-24</td>\n",
       "      <td>6.65</td>\n",
       "      <td>24.95</td>\n",
       "      <td>NaN</td>\n",
       "      <td>34.5</td>\n",
       "      <td>50.4</td>\n",
       "      <td>NaN</td>\n",
       "      <td>NaN</td>\n",
       "      <td>NaN</td>\n",
       "      <td>NaN</td>\n",
       "      <td>NaN</td>\n",
       "      <td>NaN</td>\n",
       "      <td>NaN</td>\n",
       "    </tr>\n",
       "    <tr>\n",
       "      <th>3</th>\n",
       "      <td>3</td>\n",
       "      <td>109</td>\n",
       "      <td>2013-02-06</td>\n",
       "      <td>6.14</td>\n",
       "      <td>NaN</td>\n",
       "      <td>NaN</td>\n",
       "      <td>NaN</td>\n",
       "      <td>NaN</td>\n",
       "      <td>NaN</td>\n",
       "      <td>NaN</td>\n",
       "      <td>NaN</td>\n",
       "      <td>NaN</td>\n",
       "      <td>NaN</td>\n",
       "      <td>NaN</td>\n",
       "      <td>NaN</td>\n",
       "    </tr>\n",
       "    <tr>\n",
       "      <th>4</th>\n",
       "      <td>4</td>\n",
       "      <td>109</td>\n",
       "      <td>2015-06-25</td>\n",
       "      <td>6.05</td>\n",
       "      <td>NaN</td>\n",
       "      <td>NaN</td>\n",
       "      <td>NaN</td>\n",
       "      <td>NaN</td>\n",
       "      <td>NaN</td>\n",
       "      <td>NaN</td>\n",
       "      <td>NaN</td>\n",
       "      <td>NaN</td>\n",
       "      <td>NaN</td>\n",
       "      <td>NaN</td>\n",
       "      <td>NaN</td>\n",
       "    </tr>\n",
       "  </tbody>\n",
       "</table>\n",
       "</div>"
      ],
      "text/plain": [
       "   record_id  patient_id measurement_date  measurement_27  measurement_28  \\\n",
       "0          0          69       2013-04-11            7.29           33.40   \n",
       "1          1          69       2013-04-30            7.16           24.57   \n",
       "2          2          69       2013-05-24            6.65           24.95   \n",
       "3          3         109       2013-02-06            6.14             NaN   \n",
       "4          4         109       2015-06-25            6.05             NaN   \n",
       "\n",
       "   measurement_37  measurement_42  measurement_43  measurement_68  \\\n",
       "0            4.02            30.5            47.6             NaN   \n",
       "1            4.08            39.7            54.4             NaN   \n",
       "2             NaN            34.5            50.4             NaN   \n",
       "3             NaN             NaN             NaN             NaN   \n",
       "4             NaN             NaN             NaN             NaN   \n",
       "\n",
       "   measurement_76  measurement_89  measurement_65  measurement_119  \\\n",
       "0             NaN             NaN             NaN              NaN   \n",
       "1             NaN             NaN             NaN              NaN   \n",
       "2             NaN             NaN             NaN              NaN   \n",
       "3             NaN             NaN             NaN              NaN   \n",
       "4             NaN             NaN             NaN              NaN   \n",
       "\n",
       "   measurement_67  measurement_107  \n",
       "0             NaN              NaN  \n",
       "1             NaN              NaN  \n",
       "2             NaN              NaN  \n",
       "3             NaN              NaN  \n",
       "4             NaN              NaN  "
      ]
     },
     "execution_count": 5,
     "metadata": {},
     "output_type": "execute_result"
    }
   ],
   "source": [
    "data.head()"
   ]
  },
  {
   "cell_type": "code",
   "execution_count": 19,
   "metadata": {
    "collapsed": false
   },
   "outputs": [],
   "source": [
    "df = data[data['measurement_27'].isna() == False]"
   ]
  },
  {
   "cell_type": "code",
   "execution_count": 30,
   "metadata": {
    "collapsed": false
   },
   "outputs": [
    {
     "data": {
      "text/plain": [
       "(33522, 15)"
      ]
     },
     "execution_count": 30,
     "metadata": {},
     "output_type": "execute_result"
    }
   ],
   "source": [
    "df.shape"
   ]
  },
  {
   "cell_type": "code",
   "execution_count": 29,
   "metadata": {
    "collapsed": false
   },
   "outputs": [
    {
     "name": "stdout",
     "output_type": "stream",
     "text": [
      "0 measurement_27\n",
      "15531 measurement_28\n",
      "12130 measurement_37\n",
      "12665 measurement_42\n",
      "12613 measurement_43\n",
      "32770 measurement_68\n",
      "32959 measurement_76\n",
      "30520 measurement_89\n",
      "31025 measurement_65\n",
      "32779 measurement_119\n",
      "33415 measurement_67\n",
      "33425 measurement_107\n"
     ]
    }
   ],
   "source": [
    "for column in df.drop(['record_id', 'patient_id', 'measurement_date'], axis=1):\n",
    "    print(str(df[column].isna().sum()) + \" \" + column)"
   ]
  },
  {
   "cell_type": "code",
   "execution_count": 45,
   "metadata": {
    "collapsed": false
   },
   "outputs": [
    {
     "data": {
      "text/plain": [
       "17991"
      ]
     },
     "execution_count": 45,
     "metadata": {},
     "output_type": "execute_result"
    }
   ],
   "source": [
    "df['measurement_28'].notna().values.sum()"
   ]
  },
  {
   "cell_type": "code",
   "execution_count": 44,
   "metadata": {
    "collapsed": false
   },
   "outputs": [
    {
     "data": {
      "text/plain": [
       "17991"
      ]
     },
     "execution_count": 44,
     "metadata": {},
     "output_type": "execute_result"
    }
   ],
   "source": [
    "np.logical_and(df['measurement_28'].notna().values, df['measurement_27'].notna().values).sum()"
   ]
  },
  {
   "cell_type": "code",
   "execution_count": 47,
   "metadata": {
    "collapsed": false
   },
   "outputs": [
    {
     "name": "stdout",
     "output_type": "stream",
     "text": [
      "16868\n",
      "16871\n",
      "20764\n"
     ]
    }
   ],
   "source": [
    "print(np.logical_and(df['measurement_28'].notna().values, df['measurement_42'].notna().values).sum())\n",
    "print(np.logical_and(df['measurement_28'].notna().values, df['measurement_43'].notna().values).sum())\n",
    "print(np.logical_and(df['measurement_42'].notna().values, df['measurement_43'].notna().values).sum())"
   ]
  },
  {
   "cell_type": "code",
   "execution_count": 54,
   "metadata": {
    "collapsed": false,
    "scrolled": true
   },
   "outputs": [
    {
     "data": {
      "text/plain": [
       "12130"
      ]
     },
     "execution_count": 54,
     "metadata": {},
     "output_type": "execute_result"
    }
   ],
   "source": [
    "temp1 = np.logical_and(df['measurement_28'].notna().values, df['measurement_37'].notna().values)\n",
    "temp2 = np.logical_and(df['measurement_42'].notna().values, df['measurement_43'].notna().values)\n",
    "np.logical_and(temp1, temp2).sum()"
   ]
  },
  {
   "cell_type": "code",
   "execution_count": 58,
   "metadata": {
    "collapsed": true
   },
   "outputs": [],
   "source": [
    "df2 = df.drop(['measurement_68','measurement_76','measurement_89','measurement_65',\n",
    "               'measurement_119','measurement_67','measurement_107'], axis=1)\n",
    "df2 = df2.dropna()"
   ]
  },
  {
   "cell_type": "code",
   "execution_count": 60,
   "metadata": {
    "collapsed": false
   },
   "outputs": [
    {
     "data": {
      "text/html": [
       "<div>\n",
       "<style scoped>\n",
       "    .dataframe tbody tr th:only-of-type {\n",
       "        vertical-align: middle;\n",
       "    }\n",
       "\n",
       "    .dataframe tbody tr th {\n",
       "        vertical-align: top;\n",
       "    }\n",
       "\n",
       "    .dataframe thead th {\n",
       "        text-align: right;\n",
       "    }\n",
       "</style>\n",
       "<table border=\"1\" class=\"dataframe\">\n",
       "  <thead>\n",
       "    <tr style=\"text-align: right;\">\n",
       "      <th></th>\n",
       "      <th>record_id</th>\n",
       "      <th>patient_id</th>\n",
       "      <th>measurement_date</th>\n",
       "      <th>measurement_27</th>\n",
       "      <th>measurement_28</th>\n",
       "      <th>measurement_37</th>\n",
       "      <th>measurement_42</th>\n",
       "      <th>measurement_43</th>\n",
       "    </tr>\n",
       "  </thead>\n",
       "  <tbody>\n",
       "    <tr>\n",
       "      <th>0</th>\n",
       "      <td>0</td>\n",
       "      <td>69</td>\n",
       "      <td>2013-04-11</td>\n",
       "      <td>7.29</td>\n",
       "      <td>33.40</td>\n",
       "      <td>4.02</td>\n",
       "      <td>30.5</td>\n",
       "      <td>47.6</td>\n",
       "    </tr>\n",
       "    <tr>\n",
       "      <th>1</th>\n",
       "      <td>1</td>\n",
       "      <td>69</td>\n",
       "      <td>2013-04-30</td>\n",
       "      <td>7.16</td>\n",
       "      <td>24.57</td>\n",
       "      <td>4.08</td>\n",
       "      <td>39.7</td>\n",
       "      <td>54.4</td>\n",
       "    </tr>\n",
       "    <tr>\n",
       "      <th>8</th>\n",
       "      <td>8</td>\n",
       "      <td>178</td>\n",
       "      <td>2016-03-11</td>\n",
       "      <td>4.70</td>\n",
       "      <td>12.87</td>\n",
       "      <td>5.05</td>\n",
       "      <td>34.3</td>\n",
       "      <td>72.4</td>\n",
       "    </tr>\n",
       "    <tr>\n",
       "      <th>9</th>\n",
       "      <td>9</td>\n",
       "      <td>217</td>\n",
       "      <td>2013-06-09</td>\n",
       "      <td>6.30</td>\n",
       "      <td>10.38</td>\n",
       "      <td>6.46</td>\n",
       "      <td>23.8</td>\n",
       "      <td>28.5</td>\n",
       "    </tr>\n",
       "    <tr>\n",
       "      <th>10</th>\n",
       "      <td>10</td>\n",
       "      <td>217</td>\n",
       "      <td>2014-12-13</td>\n",
       "      <td>5.82</td>\n",
       "      <td>15.26</td>\n",
       "      <td>5.81</td>\n",
       "      <td>32.4</td>\n",
       "      <td>37.4</td>\n",
       "    </tr>\n",
       "  </tbody>\n",
       "</table>\n",
       "</div>"
      ],
      "text/plain": [
       "    record_id  patient_id measurement_date  measurement_27  measurement_28  \\\n",
       "0           0          69       2013-04-11            7.29           33.40   \n",
       "1           1          69       2013-04-30            7.16           24.57   \n",
       "8           8         178       2016-03-11            4.70           12.87   \n",
       "9           9         217       2013-06-09            6.30           10.38   \n",
       "10         10         217       2014-12-13            5.82           15.26   \n",
       "\n",
       "    measurement_37  measurement_42  measurement_43  \n",
       "0             4.02            30.5            47.6  \n",
       "1             4.08            39.7            54.4  \n",
       "8             5.05            34.3            72.4  \n",
       "9             6.46            23.8            28.5  \n",
       "10            5.81            32.4            37.4  "
      ]
     },
     "execution_count": 60,
     "metadata": {},
     "output_type": "execute_result"
    }
   ],
   "source": [
    "df2.head()"
   ]
  },
  {
   "cell_type": "code",
   "execution_count": 87,
   "metadata": {
    "collapsed": true
   },
   "outputs": [],
   "source": [
    "df2.to_csv('four_features.csv', index=False)"
   ]
  },
  {
   "cell_type": "code",
   "execution_count": 61,
   "metadata": {
    "collapsed": false
   },
   "outputs": [
    {
     "data": {
      "text/html": [
       "<div>\n",
       "<style scoped>\n",
       "    .dataframe tbody tr th:only-of-type {\n",
       "        vertical-align: middle;\n",
       "    }\n",
       "\n",
       "    .dataframe tbody tr th {\n",
       "        vertical-align: top;\n",
       "    }\n",
       "\n",
       "    .dataframe thead th {\n",
       "        text-align: right;\n",
       "    }\n",
       "</style>\n",
       "<table border=\"1\" class=\"dataframe\">\n",
       "  <thead>\n",
       "    <tr style=\"text-align: right;\">\n",
       "      <th></th>\n",
       "      <th>measurement_id</th>\n",
       "      <th>measurement_name</th>\n",
       "    </tr>\n",
       "  </thead>\n",
       "  <tbody>\n",
       "    <tr>\n",
       "      <th>0</th>\n",
       "      <td>27</td>\n",
       "      <td>Глюкоза</td>\n",
       "    </tr>\n",
       "    <tr>\n",
       "      <th>1</th>\n",
       "      <td>28</td>\n",
       "      <td>Билирубин общий</td>\n",
       "    </tr>\n",
       "    <tr>\n",
       "      <th>2</th>\n",
       "      <td>37</td>\n",
       "      <td>Холестерин общий</td>\n",
       "    </tr>\n",
       "    <tr>\n",
       "      <th>3</th>\n",
       "      <td>42</td>\n",
       "      <td>Аспартатаминотрансфераза (АсАТ)</td>\n",
       "    </tr>\n",
       "    <tr>\n",
       "      <th>4</th>\n",
       "      <td>43</td>\n",
       "      <td>Аланинаминотрансфераза (АлАТ)</td>\n",
       "    </tr>\n",
       "  </tbody>\n",
       "</table>\n",
       "</div>"
      ],
      "text/plain": [
       "   measurement_id                 measurement_name\n",
       "0              27                          Глюкоза\n",
       "1              28                  Билирубин общий\n",
       "2              37                 Холестерин общий\n",
       "3              42  Аспартатаминотрансфераза (АсАТ)\n",
       "4              43    Аланинаминотрансфераза (АлАТ)"
      ]
     },
     "execution_count": 61,
     "metadata": {},
     "output_type": "execute_result"
    }
   ],
   "source": [
    "msd = pd.read_csv('measurements_dict.csv')\n",
    "msd.head()"
   ]
  },
  {
   "cell_type": "code",
   "execution_count": 71,
   "metadata": {
    "collapsed": false
   },
   "outputs": [
    {
     "name": "stdout",
     "output_type": "stream",
     "text": [
      "12130\n",
      "2755\n"
     ]
    }
   ],
   "source": [
    "X = df2[['measurement_28', 'measurement_37', 'measurement_42', 'measurement_43']].values\n",
    "y = df2['measurement_27'].apply(lambda x: 1 if x > 6.1 else 0).values\n",
    "print(len(y))\n",
    "print(y.sum())"
   ]
  },
  {
   "cell_type": "code",
   "execution_count": 75,
   "metadata": {
    "collapsed": false
   },
   "outputs": [],
   "source": [
    "from sklearn.linear_model import LogisticRegression\n",
    "from sklearn.model_selection import cross_val_score, StratifiedKFold\n",
    "import warnings\n",
    "warnings.filterwarnings('ignore')\n",
    "skf = StratifiedKFold(n_splits=3, shuffle=True, random_state=42)\n",
    "logit = LogisticRegression(n_jobs=-1, random_state=42)"
   ]
  },
  {
   "cell_type": "code",
   "execution_count": 85,
   "metadata": {
    "collapsed": true
   },
   "outputs": [],
   "source": [
    "X1 = df2[['measurement_28', 'measurement_37', 'measurement_42', 'measurement_43']].values\n",
    "X2 = df2[['measurement_28', 'measurement_37', 'measurement_42']].values\n",
    "X3 = df2[['measurement_28', 'measurement_37', 'measurement_43']].values\n",
    "X4 = df2[['measurement_28', 'measurement_42', 'measurement_43']].values\n",
    "X5 = df2[['measurement_37', 'measurement_42', 'measurement_43']].values\n",
    "\n",
    "score1 = cross_val_score(estimator=logit, X=X1, y=y, cv=skf, scoring='roc_auc')\n",
    "score2 = cross_val_score(estimator=logit, X=X2, y=y, cv=skf, scoring='roc_auc')\n",
    "score3 = cross_val_score(estimator=logit, X=X3, y=y, cv=skf, scoring='roc_auc')\n",
    "score4 = cross_val_score(estimator=logit, X=X4, y=y, cv=skf, scoring='roc_auc')\n",
    "score5 = cross_val_score(estimator=logit, X=X5, y=y, cv=skf, scoring='roc_auc')"
   ]
  },
  {
   "cell_type": "code",
   "execution_count": 86,
   "metadata": {
    "collapsed": false
   },
   "outputs": [
    {
     "name": "stdout",
     "output_type": "stream",
     "text": [
      "[0.60309867 0.58948845 0.62288453]\n",
      "[0.57286198 0.56079791 0.59424662]\n",
      "[0.59969166 0.58349054 0.62145987]\n",
      "[0.63919896 0.629158   0.6290841 ]\n",
      "[0.60191269 0.58902484 0.62168575]\n"
     ]
    }
   ],
   "source": [
    "print(score1)\n",
    "print(score2)\n",
    "print(score3)\n",
    "print(score4)\n",
    "print(score5)"
   ]
  },
  {
   "cell_type": "code",
   "execution_count": 92,
   "metadata": {
    "collapsed": false
   },
   "outputs": [
    {
     "data": {
      "text/plain": [
       "array([0.60194159, 0.58834022, 0.62181194])"
      ]
     },
     "execution_count": 92,
     "metadata": {},
     "output_type": "execute_result"
    }
   ],
   "source": [
    "from sklearn.preprocessing import StandardScaler\n",
    "scaler = StandardScaler()\n",
    "X_scaled = scaler.fit_transform(df2[['measurement_28', 'measurement_37', 'measurement_42', 'measurement_43']])\n",
    "score = cross_val_score(estimator=logit, X=X_scaled, y=y, cv=skf, scoring='roc_auc')\n",
    "score"
   ]
  },
  {
   "cell_type": "code",
   "execution_count": 93,
   "metadata": {
    "collapsed": false
   },
   "outputs": [
    {
     "data": {
      "text/plain": [
       "array([0.59775652, 0.58243747, 0.61971974])"
      ]
     },
     "execution_count": 93,
     "metadata": {},
     "output_type": "execute_result"
    }
   ],
   "source": [
    "from sklearn.preprocessing import StandardScaler\n",
    "scaler = StandardScaler()\n",
    "X_scaled = scaler.fit_transform(df2[['measurement_37', 'measurement_43']])\n",
    "score = cross_val_score(estimator=logit, X=X_scaled, y=y, cv=skf, scoring='roc_auc')\n",
    "score"
   ]
  },
  {
   "cell_type": "code",
   "execution_count": null,
   "metadata": {
    "collapsed": true
   },
   "outputs": [],
   "source": []
  }
 ],
 "metadata": {
  "kernelspec": {
   "display_name": "Python 3",
   "language": "python",
   "name": "python3"
  },
  "language_info": {
   "codemirror_mode": {
    "name": "ipython",
    "version": 3
   },
   "file_extension": ".py",
   "mimetype": "text/x-python",
   "name": "python",
   "nbconvert_exporter": "python",
   "pygments_lexer": "ipython3",
   "version": "3.6.3"
  }
 },
 "nbformat": 4,
 "nbformat_minor": 2
}
